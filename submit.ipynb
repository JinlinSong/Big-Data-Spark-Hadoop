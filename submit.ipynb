{
 "cells": [
  {
   "cell_type": "code",
   "execution_count": 1,
   "metadata": {},
   "outputs": [],
   "source": [
    "from pyspark import SparkConf, SparkContext\n",
    "sc = SparkContext(conf=SparkConf().setAppName(\"MyApp\").setMaster(\"local\"))\n",
    "import re\n",
    "def parse_article(line):\n",
    "    try:\n",
    "        article_id, text = unicode(line.rstrip()).split('\\t', 1)\n",
    "        text = re.sub(\"^\\W+|\\W+$\", \"\", text, flags=re.UNICODE).lower()\n",
    "        words = re.split(\"\\W*\\s+\\W*\", text, flags=re.UNICODE)\n",
    "        return words\n",
    "    except ValueError as e:\n",
    "        return []"
   ]
  },
  {
   "cell_type": "code",
   "execution_count": 2,
   "metadata": {},
   "outputs": [],
   "source": [
    "wiki = sc.textFile(\"/data/wiki/en_articles_part/articles-part\").map(parse_article)\n",
    "result = wiki.collect()\n",
    "result_list = {}\n",
    "for word_list in result:\n",
    "    for i, word in enumerate(word_list):\n",
    "        word = re.sub(\"\\W+\", \"\", word)\n",
    "        if word == 'narodnaya':\n",
    "            next_word = word_list[i+1]\n",
    "            if next_word in result_list:\n",
    "                result_list[next_word] += 1\n",
    "            else:\n",
    "                result_list[next_word] = 1"
   ]
  },
  {
   "cell_type": "code",
   "execution_count": 20,
   "metadata": {},
   "outputs": [
    {
     "name": "stdout",
     "output_type": "stream",
     "text": [
      "narodnaya_gazeta \t1\n",
      "narodnaya_volya \t9\n"
     ]
    }
   ],
   "source": [
    "import operator\n",
    "sorted_result_list = sorted(result_list.items(), key=operator.itemgetter(1), reverse = False)\n",
    "for i in sorted_result_list:\n",
    "    print 'narodnaya' + '_' + i[0],'\\t',i[1]"
   ]
  }
 ],
 "metadata": {
  "kernelspec": {
   "display_name": "Python 2",
   "language": "python",
   "name": "python2"
  },
  "language_info": {
   "codemirror_mode": {
    "name": "ipython",
    "version": 2
   },
   "file_extension": ".py",
   "mimetype": "text/x-python",
   "name": "python",
   "nbconvert_exporter": "python",
   "pygments_lexer": "ipython2",
   "version": "2.7.12"
  }
 },
 "nbformat": 4,
 "nbformat_minor": 2
}
